{
 "cells": [
  {
   "cell_type": "code",
   "execution_count": 1,
   "id": "60de952c-072e-4d83-b0ce-63af39bfb30a",
   "metadata": {},
   "outputs": [],
   "source": [
    "import bs4\n",
    "import os\n",
    "import tiktoken\n",
    "import numpy as np\n",
    "from dotenv import load_dotenv\n",
    "\n",
    "# Load from .env if you use one\n",
    "load_dotenv()\n",
    "os.environ[\"USER_AGENT\"] = (\n",
    "    \"Mozilla/5.0 (compatible; RAG-TutorialBot/1.0; +https://yourwebsite.com/bot)\"\n",
    ")\n",
    "os.environ[\"TOKENIZERS_PARALLELISM\"] = \"false\"\n",
    "\n",
    "from langchain import hub\n",
    "from langchain.text_splitter import RecursiveCharacterTextSplitter\n",
    "from langchain_community.document_loaders import WebBaseLoader\n",
    "from langchain_community.vectorstores import Chroma\n",
    "from langchain_openai import ChatOpenAI, OpenAIEmbeddings\n",
    "from langchain_core.output_parsers import StrOutputParser\n",
    "from langchain_core.runnables import RunnablePassthrough\n",
    "from langchain_huggingface import HuggingFaceEmbeddings"
   ]
  },
  {
   "cell_type": "code",
   "execution_count": 29,
   "id": "88a28bd3-4977-4301-8661-439f5e97b67e",
   "metadata": {},
   "outputs": [],
   "source": [
    "LANGSMITH_PROJECT = \"rag-virtual-assistant-course\""
   ]
  },
  {
   "cell_type": "markdown",
   "id": "07f58a04-b2ad-4ed1-b6b9-dbb4f26efca8",
   "metadata": {},
   "source": [
    "# INDEXING"
   ]
  },
  {
   "cell_type": "code",
   "execution_count": 30,
   "id": "664f9b70-3534-408f-a44e-e767aeac3f57",
   "metadata": {},
   "outputs": [],
   "source": [
    "# Load documents from the web\n",
    "loader = WebBaseLoader(\n",
    "    web_paths=[\n",
    "        \"https://www.reuters.com/world/europe/greece-ask-eu-fiscal-leeway-defence-spending-minister-says-2025-04-29/\",\n",
    "        \"https://www.ekathimerini.com/economy/1264299/moodys-upgrade-of-the-greek-economy-is-significant-says-govt-spox/\",\n",
    "    ],\n",
    "    bs_kwargs={\n",
    "        # Optional: you can remove `bs_kwargs` if the websites don't need specific filtering\n",
    "        \"parse_only\": bs4.SoupStrainer(\n",
    "            [\"article\", \"body\", \"main\", \"section\", \"div\", \"p\"]\n",
    "        )\n",
    "    },\n",
    ")\n",
    "docs = loader.load()\n",
    "\n",
    "# Split documents into manageable chunks\n",
    "text_splitter = RecursiveCharacterTextSplitter(chunk_size=1000, chunk_overlap=200)\n",
    "splits = text_splitter.split_documents(docs)\n",
    "\n",
    "# Check for available API keys\n",
    "openai_key = os.getenv(\"OPENAI_API_KEY\")\n",
    "groq_key = os.getenv(\"GROQ_API_KEY\")\n",
    "\n",
    "# Create vectorstore with OpenAI embeddings\n",
    "if os.getenv(\"OPENAI_API_KEY\"):\n",
    "    embedder = OpenAIEmbeddings()\n",
    "else:\n",
    "    embedder = HuggingFaceEmbeddings(\n",
    "        model_name=\"sentence-transformers/all-MiniLM-L6-v2\"\n",
    "    )\n",
    "\n",
    "vectorstore = Chroma.from_documents(documents=splits, embedding=embedder)\n",
    "\n",
    "retriever = vectorstore.as_retriever()"
   ]
  },
  {
   "cell_type": "code",
   "execution_count": 31,
   "id": "83c2d3f5-d2d5-4991-8daf-96cf2adca80b",
   "metadata": {},
   "outputs": [
    {
     "name": "stdout",
     "output_type": "stream",
     "text": [
      "3. Please enable JS and disable any ad blocker...\n",
      "\n",
      "4. HOMENEWS\n",
      "\n",
      "SOCIETY\n",
      "ENVIRONMENT\n",
      "\n",
      "\n",
      "POLITICS\n",
      "\n",
      "FOREIGN AFFAIRS\n",
      "\n",
      "\n",
      "ECONOMY\n",
      "\n",
      "ENERGY\n",
      "REAL ESTATE\n",
      "\n",
      "\n",
      "IN DEPTH\n",
      "\n",
      "INTERVIEWS\n",
      "ANALYSIS\n",
      "\n",
      "\n",
      "DIASPORA\n",
      "CULTURE\n",
      "\n",
      "WHAT’S ON\n",
      "\n",
      "\n",
      "LIFESTYLE\n",
      "\n",
      "FOOD\n",
      "TRAVEL\n",
      "\n",
      "\n",
      "OPINION\n",
      "\n",
      "CARTOON\n",
      "\n",
      "\n",
      "SPOR...\n",
      "\n",
      "5. Newsroom\n",
      " \n",
      "\n",
      "\n",
      "March 16, 2025\n",
      "16.03.2025 • 16:00\n",
      "\n",
      "\n",
      "\n",
      "\n",
      "\n",
      "\n",
      "\n",
      "\n",
      "\n",
      "\n",
      "\n",
      "\n",
      "\n",
      "\n",
      "\n",
      "\n",
      "\n",
      "\n",
      "\n",
      "\n",
      "\n",
      "\n",
      "\n",
      "\n",
      "\n",
      "\n",
      "\n",
      "\n",
      "\n",
      "\n",
      "\n",
      "Government spokesperson Pavlos Marinakis described Moody’s decision to upgrade Greece’s economy to investment grade as a s...\n",
      "\n",
      "6. Politics\n",
      "Economy\n",
      "Investments\n",
      "\n",
      "\n",
      "\n",
      "\n",
      "\n",
      "\n",
      "\n",
      "\n",
      "\n",
      "\n",
      "\n",
      "\n",
      "\n",
      "\n",
      "\n",
      "\n",
      "\n",
      "\n",
      "\n",
      "\n",
      "\n",
      "\n",
      "\n",
      "\n",
      "\n",
      "\n",
      "\n",
      "\n",
      "\n",
      "\n",
      "\n",
      "\n",
      "\n",
      "\n",
      "\n",
      " \n",
      "\n",
      "\n",
      "READ MORE\n",
      " \n",
      "\n",
      "\n",
      "\n",
      "\n",
      " \n",
      "\n",
      "ECONOMY\n",
      "\n",
      "Kasselakis slams austerity in 2025 state budget\n",
      "\n",
      "\n",
      "\n",
      "\n",
      "\n",
      "\n",
      " \n",
      "\n",
      "ECONOMY\n",
      "\n",
      "Debate on 2025 state budget to begin o...\n",
      "\n",
      "7. By signing up you are agreeing to our Terms of Service and Privacy Policy.\n",
      "\n",
      "\n",
      "\n",
      "\n",
      "\n",
      "\n",
      "\n",
      " \n",
      "\n",
      " \n",
      "\n",
      " \n",
      "\n",
      "\n",
      "\n",
      "\n",
      " \n",
      "\n",
      "\n",
      "\n",
      "\n",
      "\n",
      "\n",
      "\n",
      "\n",
      "\n",
      "Sign up for our Newsletter\n",
      "\n",
      "\n",
      "\n",
      "\n",
      "\n",
      "\n",
      "\n",
      "\n",
      "\n",
      "\n",
      "\n",
      "\n",
      "\n",
      "\n",
      "\n",
      "\n",
      "\n",
      "\n",
      "\n",
      "\n",
      "\n",
      "\n",
      "\n",
      "\n",
      "\n",
      "\n",
      "\n",
      "\n",
      "\n",
      "\n",
      "\n",
      "\n",
      "\n",
      "\n",
      "\n",
      "\n",
      "\n",
      "\n",
      "\n",
      "\n",
      "\n",
      "\n",
      "\n",
      "\n",
      " \n",
      "\n",
      " \n",
      "\n",
      " \n",
      "\n",
      " \n",
      "\n",
      " \n",
      "\n",
      " \n",
      "\n",
      " \n",
      "\n",
      " \n",
      "\n",
      "...\n",
      "\n",
      "8. Please enable JS and disable any ad blocker...\n",
      "\n",
      "9. HOMENEWS\n",
      "\n",
      "SOCIETY\n",
      "ENVIRONMENT\n",
      "\n",
      "\n",
      "POLITICS\n",
      "\n",
      "FOREIGN AFFAIRS\n",
      "\n",
      "\n",
      "ECONOMY\n",
      "\n",
      "ENERGY\n",
      "REAL ESTATE\n",
      "\n",
      "\n",
      "IN DEPTH\n",
      "\n",
      "INTERVIEWS\n",
      "ANALYSIS\n",
      "\n",
      "\n",
      "DIASPORA\n",
      "CULTURE\n",
      "\n",
      "WHAT’S ON\n",
      "\n",
      "\n",
      "LIFESTYLE\n",
      "\n",
      "FOOD\n",
      "TRAVEL\n",
      "\n",
      "\n",
      "OPINION\n",
      "\n",
      "CARTOON\n",
      "\n",
      "\n",
      "SPOR...\n",
      "\n",
      "10. Newsroom\n",
      " \n",
      "\n",
      "\n",
      "March 16, 2025\n",
      "16.03.2025 • 16:00\n",
      "\n",
      "\n",
      "\n",
      "\n",
      "\n",
      "\n",
      "\n",
      "\n",
      "\n",
      "\n",
      "\n",
      "\n",
      "\n",
      "\n",
      "\n",
      "\n",
      "\n",
      "\n",
      "\n",
      "\n",
      "\n",
      "\n",
      "\n",
      "\n",
      "\n",
      "\n",
      "\n",
      "\n",
      "\n",
      "\n",
      "\n",
      "Government spokesperson Pavlos Marinakis described Moody’s decision to upgrade Greece’s economy to investment grade as a s...\n",
      "\n",
      "11. Politics\n",
      "Economy\n",
      "Investments\n",
      "\n",
      "\n",
      "\n",
      "\n",
      "\n",
      "\n",
      "\n",
      "\n",
      "\n",
      "\n",
      "\n",
      "\n",
      "\n",
      "\n",
      "\n",
      "\n",
      "\n",
      "\n",
      "\n",
      "\n",
      "\n",
      "\n",
      "\n",
      "\n",
      "\n",
      "\n",
      "\n",
      "\n",
      "\n",
      "\n",
      "\n",
      "\n",
      "\n",
      "\n",
      "\n",
      " \n",
      "\n",
      "\n",
      "READ MORE\n",
      " \n",
      "\n",
      "\n",
      "\n",
      "\n",
      " \n",
      "\n",
      "ECONOMY\n",
      "\n",
      "Kasselakis slams austerity in 2025 state budget\n",
      "\n",
      "\n",
      "\n",
      "\n",
      "\n",
      "\n",
      " \n",
      "\n",
      "ECONOMY\n",
      "\n",
      "Debate on 2025 state budget to begin o...\n",
      "\n",
      "12. By signing up you are agreeing to our Terms of Service and Privacy Policy.\n",
      "\n",
      "\n",
      "\n",
      "\n",
      "\n",
      "\n",
      "\n",
      " \n",
      "\n",
      " \n",
      "\n",
      " \n",
      "\n",
      "\n",
      "\n",
      "\n",
      " \n",
      "\n",
      "\n",
      "\n",
      "\n",
      "\n",
      "\n",
      "\n",
      "\n",
      "\n",
      "Sign up for our Newsletter\n",
      "\n",
      "\n",
      "\n",
      "\n",
      "\n",
      "\n",
      "\n",
      "\n",
      "\n",
      "\n",
      "\n",
      "\n",
      "\n",
      "\n",
      "\n",
      "\n",
      "\n",
      "\n",
      "\n",
      "\n",
      "\n",
      "\n",
      "\n",
      "\n",
      "\n",
      "\n",
      "\n",
      "\n",
      "\n",
      "\n",
      "\n",
      "\n",
      "\n",
      "\n",
      "\n",
      "\n",
      "\n",
      "\n",
      "\n",
      "\n",
      "\n",
      "\n",
      "\n",
      "\n",
      " \n",
      "\n",
      " \n",
      "\n",
      " \n",
      "\n",
      " \n",
      "\n",
      " \n",
      "\n",
      " \n",
      "\n",
      " \n",
      "\n",
      " \n",
      "\n",
      "...\n",
      "\n"
     ]
    }
   ],
   "source": [
    "docs = vectorstore.get()[\"documents\"]\n",
    "for i, doc in enumerate(docs, 3):\n",
    "    print(f\"{i}. {doc[:200]}...\\n\")"
   ]
  },
  {
   "cell_type": "markdown",
   "id": "94c8ee9b-ab06-44c8-9df7-9c97098e595c",
   "metadata": {},
   "source": [
    "# RETRIEVAL + GENERATION"
   ]
  },
  {
   "cell_type": "code",
   "execution_count": 32,
   "id": "9cf44c90-e7ed-4f75-998b-e2d1cfe81f7e",
   "metadata": {},
   "outputs": [],
   "source": [
    "# Pull a standard RAG prompt template from LangChain Hub\n",
    "prompt = hub.pull(\"rlm/rag-prompt\")"
   ]
  },
  {
   "cell_type": "code",
   "execution_count": 33,
   "id": "91f2a60b-0bd1-45e7-9303-13cc087a30ab",
   "metadata": {},
   "outputs": [
    {
     "name": "stdout",
     "output_type": "stream",
     "text": [
      "You are an assistant for question-answering tasks. Use the following pieces of retrieved context to answer the question. If you don't know the answer, just say that you don't know. Use three sentences maximum and keep the answer concise.\n",
      "Question: {question} \n",
      "Context: {context} \n",
      "Answer:\n"
     ]
    }
   ],
   "source": [
    "human_prompt = prompt.messages[0].prompt.template\n",
    "print(human_prompt)"
   ]
  },
  {
   "cell_type": "code",
   "execution_count": 34,
   "id": "4f9845d3-a77d-4fa4-b76d-86f89a67a280",
   "metadata": {},
   "outputs": [],
   "source": [
    "# Initialize LLM based on available provider\n",
    "if openai_key:\n",
    "    llm = ChatOpenAI(model_name=\"gpt-4\", temperature=0, openai_api_key=openai_key)\n",
    "elif groq_key:\n",
    "    llm = ChatOpenAI(\n",
    "        model_name=\"llama3-70b-8192\",\n",
    "        temperature=0,\n",
    "        openai_api_key=groq_key,\n",
    "        openai_api_base=\"https://api.groq.com/openai/v1\",\n",
    "    )\n",
    "else:\n",
    "    raise ValueError(\n",
    "        \"\\n No API key found.\\n\\n\"\n",
    "        \"Please create a `.env` file in your project folder and add one of the following:\\n\\n\"\n",
    "        \"For Groq (recommended, free):\\n\"\n",
    "        \"  GROQ_API_KEY=sk-...\\n\\n\"\n",
    "        \"Or for OpenAI:\\n\"\n",
    "        \" OPENAI_API_KEY=sk-...\\n\\n\"\n",
    "        \" Groq signup: https://console.groq.com\\n\"\n",
    "        \" OpenAI signup: https://platform.openai.com\\n\"\n",
    "    )\n",
    "\n",
    "\n",
    "# Define a post-processor for the retrieved documents\n",
    "def format_docs(docs):\n",
    "    return \"\\n\\n\".join(doc.page_content for doc in docs)"
   ]
  },
  {
   "cell_type": "code",
   "execution_count": 35,
   "id": "38c96426-cc7f-4a65-b509-35b3266efec8",
   "metadata": {},
   "outputs": [],
   "source": [
    "# Create the full RAG chain\n",
    "rag_chain = (\n",
    "    {\"context\": retriever | format_docs, \"question\": RunnablePassthrough()}\n",
    "    | prompt\n",
    "    | llm\n",
    "    | StrOutputParser()\n",
    ")"
   ]
  },
  {
   "cell_type": "markdown",
   "id": "661c1241-e85f-4352-a21f-437287b6c272",
   "metadata": {},
   "source": [
    "# Ask a Question"
   ]
  },
  {
   "cell_type": "code",
   "execution_count": 36,
   "id": "51df03d7-9f2f-4fda-8d22-8d84d45e330f",
   "metadata": {},
   "outputs": [
    {
     "name": "stdout",
     "output_type": "stream",
     "text": [
      "According to the provided context, as of March 16, 2025, the Greek economy has been upgraded to investment grade by Moody's, which is considered a significant development. This upgrade highlights the country's rapid reduction of debt, increase in revenues, budget overperformance, and decline in non-performing loans.\n"
     ]
    }
   ],
   "source": [
    "response = rag_chain.invoke(\"How is the Greek economy doing in 2025?\")\n",
    "print(response)"
   ]
  },
  {
   "cell_type": "code",
   "execution_count": 37,
   "id": "2b6d6bdc-17d7-498e-9e37-ef0d8a99c821",
   "metadata": {},
   "outputs": [
    {
     "name": "stdout",
     "output_type": "stream",
     "text": [
      "According to the context, the financial benefits mentioned include the rapid reduction of debt, the increase in revenues, the budget's overperformance, and the decline in non-performing loans.\n"
     ]
    }
   ],
   "source": [
    "response = rag_chain.invoke(\"What about financial benefits?\")\n",
    "print(response)"
   ]
  },
  {
   "cell_type": "code",
   "execution_count": 38,
   "id": "a2c02e5c-353d-4591-b3b2-4aaa81f1ebee",
   "metadata": {},
   "outputs": [
    {
     "name": "stdout",
     "output_type": "stream",
     "text": [
      "The 2025 state budget prioritizes a disposable income increase, which will likely relieve households by providing them with more financial resources. The PM has highlighted the social focus of the budget, indicating that it aims to benefit households. However, the exact mechanisms of how this will be achieved are not specified in the provided context.\n"
     ]
    }
   ],
   "source": [
    "response = rag_chain.invoke(\"How will this relief the households?\")\n",
    "print(response)"
   ]
  },
  {
   "attachments": {
    "56d3411c-0c2e-4d73-8f30-4c7588032764.png": {
     "image/png": "[encoded data removed]"
    }
   },
   "cell_type": "markdown",
   "id": "6e775f81-daa5-4ce5-a72a-2652decb4b57",
   "metadata": {},
   "source": [
    "# Indexing\n",
    "\n",
    "![image.png](attachment:56d3411c-0c2e-4d73-8f30-4c7588032764.png)"
   ]
  },
  {
   "cell_type": "markdown",
   "id": "e0f60ce6-d642-4c9c-b9ef-80ac4c088824",
   "metadata": {},
   "source": [
    "### Quick Token Counting Utility"
   ]
  },
  {
   "cell_type": "code",
   "execution_count": 39,
   "id": "b0688668-12b2-4d94-bcc5-3c05c1f7cff8",
   "metadata": {},
   "outputs": [
    {
     "name": "stdout",
     "output_type": "stream",
     "text": [
      "Sample question tokens: 12\n"
     ]
    }
   ],
   "source": [
    "def count_tokens(text: str, encoding_name: str = \"cl100k_base\") -> int:\n",
    "    \"\"\"Calculate the number of tokens in a given string.\"\"\"\n",
    "    encoding = tiktoken.get_encoding(encoding_name)\n",
    "    return len(encoding.encode(text))\n",
    "\n",
    "\n",
    "# Example usage\n",
    "sample_question = \"How is Greece's 2025 budget surplus being used?\"\n",
    "sample_document = \"Greece announced €1 billion in financial benefits following a strong 2025 fiscal surplus.\"\n",
    "\n",
    "print(\"Sample question tokens:\", count_tokens(sample_question))"
   ]
  },
  {
   "cell_type": "markdown",
   "id": "ed735583",
   "metadata": {},
   "source": [
    "### Embedding and Similarity Check"
   ]
  },
  {
   "cell_type": "code",
   "execution_count": 40,
   "id": "a9adeb33-03a4-485d-bc31-60aa78b2c926",
   "metadata": {},
   "outputs": [
    {
     "name": "stdout",
     "output_type": "stream",
     "text": [
      "Cosine Similarity: 0.6497082498220133\n"
     ]
    }
   ],
   "source": [
    "# Embed the query and document\n",
    "question_embedding = embedder.embed_query(sample_question)\n",
    "document_embedding = embedder.embed_query(sample_document)\n",
    "\n",
    "\n",
    "# Define cosine similarity function\n",
    "def cosine_similarity(vec1, vec2):\n",
    "    dot_product = np.dot(vec1, vec2)\n",
    "    return dot_product / (np.linalg.norm(vec1) * np.linalg.norm(vec2))\n",
    "\n",
    "\n",
    "# Calculate similarity\n",
    "similarity_score = cosine_similarity(question_embedding, document_embedding)\n",
    "print(\"Cosine Similarity:\", similarity_score)"
   ]
  },
  {
   "cell_type": "code",
   "execution_count": 41,
   "id": "af99714a-1785-482d-8f30-2d55bc9e9f61",
   "metadata": {},
   "outputs": [
    {
     "data": {
      "text/plain": [
       "384"
      ]
     },
     "execution_count": 41,
     "metadata": {},
     "output_type": "execute_result"
    }
   ],
   "source": [
    "len(question_embedding)"
   ]
  },
  {
   "cell_type": "code",
   "execution_count": 42,
   "id": "bf6a85e5",
   "metadata": {},
   "outputs": [
    {
     "data": {
      "text/plain": [
       "[-0.10974527895450592,\n",
       " 0.027172289788722992,\n",
       " -0.004165921825915575,\n",
       " -0.019714944064617157,\n",
       " 0.058254290372133255]"
      ]
     },
     "execution_count": 42,
     "metadata": {},
     "output_type": "execute_result"
    }
   ],
   "source": [
    "question_embedding[:5]"
   ]
  },
  {
   "cell_type": "markdown",
   "id": "f8da56af",
   "metadata": {},
   "source": [
    "# Controlling the number of documents returned"
   ]
  },
  {
   "cell_type": "code",
   "execution_count": 43,
   "id": "1a2b538c-2c93-451b-913e-cc1d8a330b02",
   "metadata": {},
   "outputs": [
    {
     "name": "stdout",
     "output_type": "stream",
     "text": [
      "Indexing completed. Retriever is ready to answer questions about the Greek economy.\n"
     ]
    }
   ],
   "source": [
    "greece_retriever = vectorstore.as_retriever(search_kwargs={\"k\": 1})\n",
    "\n",
    "print(\n",
    "    \"Indexing completed. Retriever is ready to answer questions about the Greek economy.\"\n",
    ")"
   ]
  },
  {
   "cell_type": "code",
   "execution_count": 44,
   "id": "f4b806db-676f-4ea5-b733-93999dff2419",
   "metadata": {},
   "outputs": [],
   "source": [
    "docs = greece_retriever.invoke(\"What do you know about greek economy?\")"
   ]
  },
  {
   "cell_type": "code",
   "execution_count": 45,
   "id": "dc652a8c-64c9-4a39-b2dd-7417397c0712",
   "metadata": {},
   "outputs": [
    {
     "data": {
      "text/plain": [
       "1"
      ]
     },
     "execution_count": 45,
     "metadata": {},
     "output_type": "execute_result"
    }
   ],
   "source": [
    "len(docs)"
   ]
  },
  {
   "cell_type": "code",
   "execution_count": 46,
   "id": "ecdd9605-5cef-4742-a7f0-740e4bed084e",
   "metadata": {},
   "outputs": [],
   "source": [
    "docs = retriever.invoke(\"What do you know about greek economy?\")"
   ]
  },
  {
   "cell_type": "code",
   "execution_count": 47,
   "id": "0ea4dc3d-b05a-4041-b243-1f219f6e9472",
   "metadata": {},
   "outputs": [
    {
     "data": {
      "text/plain": [
       "4"
      ]
     },
     "execution_count": 47,
     "metadata": {},
     "output_type": "execute_result"
    }
   ],
   "source": [
    "len(docs)"
   ]
  },
  {
   "cell_type": "markdown",
   "id": "709cd2e1-cfa0-4250-827b-96c92db4806f",
   "metadata": {},
   "source": [
    "# Generation"
   ]
  },
  {
   "cell_type": "code",
   "execution_count": 48,
   "id": "06d42233-019a-42de-b915-51e5601d6001",
   "metadata": {},
   "outputs": [],
   "source": [
    "chain = prompt | llm"
   ]
  },
  {
   "cell_type": "code",
   "execution_count": 49,
   "id": "6695dc18-2e71-44ab-a872-f850be9521c3",
   "metadata": {},
   "outputs": [
    {
     "data": {
      "text/plain": [
       "AIMessage(content=\"According to the provided context, Moody's upgraded Greece's economy to investment grade, which is a significant development for the country. The upgrade highlights the rapid reduction of debt, increase in revenues, budget overperformance, and decline in non-performing loans.\", additional_kwargs={'refusal': None}, response_metadata={'token_usage': {'completion_tokens': 51, 'prompt_tokens': 1638, 'total_tokens': 1689, 'completion_tokens_details': None, 'prompt_tokens_details': None, 'queue_time': 0.010348824000000006, 'prompt_time': 0.061781247, 'completion_time': 0.155030446, 'total_time': 0.216811693}, 'model_name': 'llama3-70b-8192', 'system_fingerprint': 'fp_dd4ae1c591', 'id': 'chatcmpl-a76bd4ee-6fba-4dbf-8016-1853f011bd2f', 'finish_reason': 'stop', 'logprobs': None}, id='run-1cf0e481-9376-4182-a1fe-54f00699fdf8-0', usage_metadata={'input_tokens': 1638, 'output_tokens': 51, 'total_tokens': 1689, 'input_token_details': {}, 'output_token_details': {}})"
      ]
     },
     "execution_count": 49,
     "metadata": {},
     "output_type": "execute_result"
    }
   ],
   "source": [
    "# Run\n",
    "chain.invoke({\"context\": docs, \"question\": \"What do you know about greek economy?\"})"
   ]
  },
  {
   "cell_type": "code",
   "execution_count": 50,
   "id": "e40cf083-6617-4b15-9794-987f4037ba75",
   "metadata": {},
   "outputs": [],
   "source": [
    "prompt_hub_rag = hub.pull(\"rlm/rag-prompt\")"
   ]
  },
  {
   "cell_type": "code",
   "execution_count": 51,
   "id": "9bd252b7-bb7e-45bf-94bb-6b09d1ec9d46",
   "metadata": {},
   "outputs": [
    {
     "name": "stdout",
     "output_type": "stream",
     "text": [
      "You are an assistant for question-answering tasks. Use the following pieces of retrieved context to answer the question. If you don't know the answer, just say that you don't know. Use three sentences maximum and keep the answer concise.\n",
      "Question: {question} \n",
      "Context: {context} \n",
      "Answer:\n"
     ]
    }
   ],
   "source": [
    "print(prompt_hub_rag.messages[0].prompt.template)"
   ]
  },
  {
   "cell_type": "code",
   "execution_count": 52,
   "id": "6c932c56-8459-4436-b5f3-08238509f7b4",
   "metadata": {},
   "outputs": [
    {
     "data": {
      "text/plain": [
       "\"I don't know about the economy of Germany. The provided context is about the economy of Greece, not Germany.\""
      ]
     },
     "execution_count": 52,
     "metadata": {},
     "output_type": "execute_result"
    }
   ],
   "source": [
    "rag_chain = (\n",
    "    {\"context\": retriever, \"question\": RunnablePassthrough()}\n",
    "    | prompt\n",
    "    | llm\n",
    "    | StrOutputParser()\n",
    ")\n",
    "\n",
    "rag_chain.invoke(\"What do you know about economy of Germany?\")"
   ]
  },
  {
   "cell_type": "code",
   "execution_count": null,
   "id": "bc460339-2228-40c7-87af-5e51f9a5ad05",
   "metadata": {},
   "outputs": [],
   "source": []
  }
 ],
 "metadata": {
  "kernelspec": {
   "display_name": "Python 3 (ipykernel)",
   "language": "python",
   "name": "python3"
  },
  "language_info": {
   "codemirror_mode": {
    "name": "ipython",
    "version": 3
   },
   "file_extension": ".py",
   "mimetype": "text/x-python",
   "name": "python",
   "nbconvert_exporter": "python",
   "pygments_lexer": "ipython3",
   "version": "3.12.1"
  }
 },
 "nbformat": 4,
 "nbformat_minor": 5
}
