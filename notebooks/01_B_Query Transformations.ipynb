{
 "cells": [
  {
   "cell_type": "code",
   "execution_count": 1,
   "id": "c00558e7-61e5-4f2b-aaaf-60b8a44e55f8",
   "metadata": {},
   "outputs": [
    {
     "name": "stdout",
     "output_type": "stream",
     "text": [
      "/Users/pantost/Desktop/codehub/rag-virtual-assistant-course/.venv/bin/python\n"
     ]
    }
   ],
   "source": [
    "!which python"
   ]
  },
  {
   "cell_type": "code",
   "execution_count": 2,
   "id": "c512e052-86bb-4e3b-afd5-b03838dbf879",
   "metadata": {},
   "outputs": [],
   "source": [
    "import bs4\n",
    "import os\n",
    "from dotenv import load_dotenv\n",
    "\n",
    "# Load from .env if you use one\n",
    "load_dotenv()\n",
    "os.environ[\"USER_AGENT\"] = (\n",
    "    \"Mozilla/5.0 (compatible; RAG-TutorialBot/1.0; +https://yourwebsite.com/bot)\"\n",
    ")\n",
    "os.environ[\"TOKENIZERS_PARALLELISM\"] = \"false\"\n",
    "\n",
    "from langchain.text_splitter import RecursiveCharacterTextSplitter\n",
    "from langchain_community.document_loaders import WebBaseLoader\n",
    "from langchain_community.vectorstores import Chroma\n",
    "from langchain_openai import ChatOpenAI, OpenAIEmbeddings\n",
    "from langchain_core.output_parsers import StrOutputParser\n",
    "from langchain_huggingface import HuggingFaceEmbeddings\n",
    "from langchain_core.prompts import PromptTemplate\n",
    "from langchain.prompts import ChatPromptTemplate\n",
    "from operator import itemgetter"
   ]
  },
  {
   "cell_type": "code",
   "execution_count": 3,
   "id": "fc497f07-4185-44a8-a488-36ba152e6088",
   "metadata": {},
   "outputs": [],
   "source": [
    "LANGSMITH_PROJECT = \"rag-virtual-assistant-course\""
   ]
  },
  {
   "cell_type": "code",
   "execution_count": 4,
   "id": "a031f25a-9a22-4204-ba7b-d84b7aa35f86",
   "metadata": {},
   "outputs": [],
   "source": [
    "# Load documents from the web\n",
    "loader = WebBaseLoader(\n",
    "    web_paths=[\n",
    "        \"https://www.reuters.com/world/europe/greece-ask-eu-fiscal-leeway-defence-spending-minister-says-2025-04-29/\",\n",
    "        \"https://www.ekathimerini.com/economy/1264299/moodys-upgrade-of-the-greek-economy-is-significant-says-govt-spox/\",\n",
    "        \"https://www.imf.org/en/News/Articles/2025/04/04/pr2589-greece-imf-executive-board-concludes-2025-article-iv-consultation\",\n",
    "        \"https://economy-finance.ec.europa.eu/economic-surveillance-eu-economies/greece/economic-forecast-greece_en\",\n",
    "        \"https://www.reuters.com/markets/europe/greece-repay-first-bailout-loans-by-2031-10-years-early-2025-04-11/\",\n",
    "        \"https://www.reuters.com/world/europe/bribery-scandals-greeces-public-sector-show-persistence-corruption-2025-03-27\",\n",
    "        \"https://www.reuters.com/markets/europe/greek-economy-surges-after-decade-pain-2024-04-18/\",\n",
    "    ],\n",
    "    bs_kwargs={\n",
    "        # Optional: you can remove `bs_kwargs` if the websites don't need specific filtering\n",
    "        \"parse_only\": bs4.SoupStrainer(\n",
    "            [\"article\", \"body\", \"main\", \"section\", \"div\", \"p\"]\n",
    "        )\n",
    "    },\n",
    ")\n",
    "docs = loader.load()\n",
    "\n",
    "# Split documents into manageable chunks\n",
    "text_splitter = RecursiveCharacterTextSplitter(chunk_size=1000, chunk_overlap=200)\n",
    "splits = text_splitter.split_documents(docs)\n",
    "\n",
    "# Check for available API keys\n",
    "openai_key = os.getenv(\"OPENAI_API_KEY\")\n",
    "groq_key = os.getenv(\"GROQ_API_KEY\")\n",
    "\n",
    "# Create vectorstore with OpenAI embeddings\n",
    "if os.getenv(\"OPENAI_API_KEY\"):\n",
    "    embedder = OpenAIEmbeddings()\n",
    "else:\n",
    "    embedder = HuggingFaceEmbeddings(\n",
    "        model_name=\"sentence-transformers/all-MiniLM-L6-v2\"\n",
    "    )\n",
    "\n",
    "vectorstore = Chroma.from_documents(documents=splits, embedding=embedder)\n",
    "\n",
    "retriever = vectorstore.as_retriever()"
   ]
  },
  {
   "cell_type": "markdown",
   "id": "f03aec4a-bd38-4a74-a093-d39a26511c65",
   "metadata": {},
   "source": [
    "# Multi query"
   ]
  },
  {
   "cell_type": "code",
   "execution_count": 5,
   "id": "6cb9fc58-c1f2-47f6-b195-8178489c2e69",
   "metadata": {},
   "outputs": [],
   "source": [
    "# Multi Query: Different Perspectives\n",
    "template = \"\"\"You are an AI language model assistant. Your task is to generate five \n",
    "different versions of the given user question to retrieve relevant documents from a vector \n",
    "database. By generating multiple perspectives on the user question, your goal is to help\n",
    "the user overcome some of the limitations of the distance-based similarity search. \n",
    "Provide these alternative questions separated by newlines. Original question: {question}\"\"\"\n",
    "prompt_perspectives = ChatPromptTemplate.from_template(template)\n",
    "\n",
    "\n",
    "generate_queries = (\n",
    "    prompt_perspectives\n",
    "    | ChatOpenAI(temperature=0)\n",
    "    | StrOutputParser()\n",
    "    | (lambda x: x.split(\"\\n\"))\n",
    ")"
   ]
  },
  {
   "cell_type": "code",
   "execution_count": 6,
   "id": "543eec1c-63c1-4e57-81d0-1b3ce521d48a",
   "metadata": {},
   "outputs": [
    {
     "name": "stdout",
     "output_type": "stream",
     "text": [
      "1. 1. What are the factors contributing to economic growth in Greece?\n",
      "2. 2. How has the Greek economy been performing in terms of growth?\n",
      "3. 3. Can you provide insights into the growth trajectory of Greece?\n",
      "4. 4. What is the current state of economic expansion in Greece?\n",
      "5. 5. How has Greece's growth compared to other European countries?\n"
     ]
    }
   ],
   "source": [
    "question = \"What were the main factors that led to the Greek debt crisis?\"\n",
    "\n",
    "question = \"Greek growth?\"\n",
    "\n",
    "queries = generate_queries.invoke({\"question\": question})\n",
    "\n",
    "for i, q in enumerate(queries, 1):\n",
    "    print(f\"{i}. {q}\")"
   ]
  },
  {
   "cell_type": "code",
   "execution_count": 7,
   "id": "a27df07b-2bce-4883-9078-b54de9cf79dd",
   "metadata": {},
   "outputs": [
    {
     "name": "stderr",
     "output_type": "stream",
     "text": [
      "/var/folders/3c/v_kz_tz15cjf811kh6rsnyj00000gp/T/ipykernel_89079/3443483279.py:11: LangChainBetaWarning: The function `loads` is in beta. It is actively being worked on, so the API may change.\n",
      "  return [loads(doc) for doc in unique_docs]\n"
     ]
    },
    {
     "data": {
      "text/plain": [
       "5"
      ]
     },
     "execution_count": 7,
     "metadata": {},
     "output_type": "execute_result"
    }
   ],
   "source": [
    "from langchain.load import dumps, loads\n",
    "\n",
    "\n",
    "def get_unique_union(documents: list[list]):\n",
    "    \"\"\"Unique union of retrieved docs\"\"\"\n",
    "    # Flatten list of lists, and convert each Document to string\n",
    "    flattened_docs = [dumps(doc) for sublist in documents for doc in sublist]\n",
    "    # Get unique documents\n",
    "    unique_docs = list(set(flattened_docs))\n",
    "    # Return\n",
    "    return [loads(doc) for doc in unique_docs]\n",
    "\n",
    "\n",
    "retrieval_chain = generate_queries | retriever.map() | get_unique_union\n",
    "docs = retrieval_chain.invoke({\"question\": question})\n",
    "len(docs)"
   ]
  },
  {
   "cell_type": "code",
   "execution_count": 8,
   "id": "be881c33-68b3-42af-9765-f22876de8ea5",
   "metadata": {},
   "outputs": [
    {
     "data": {
      "text/plain": [
       "'Greek growth is expected to remain robust, with real GDP growth averaging 2.1% in 2024 and projected to remain high at 2.1% in 2025. Investment, private consumption, and steady real income growth are key factors driving this growth. Additionally, private consumption is set to continue expanding at a robust pace, and investment is forecasted to accelerate further.'"
      ]
     },
     "execution_count": 8,
     "metadata": {},
     "output_type": "execute_result"
    }
   ],
   "source": [
    "# RAG\n",
    "template = \"\"\"Answer the following question based on this context:\n",
    "\n",
    "{context}\n",
    "\n",
    "Question: {question}\n",
    "\"\"\"\n",
    "\n",
    "prompt = ChatPromptTemplate.from_template(template)\n",
    "\n",
    "llm = ChatOpenAI(temperature=0)\n",
    "\n",
    "final_rag_chain = (\n",
    "    {\"context\": retrieval_chain, \"question\": itemgetter(\"question\")}\n",
    "    | prompt\n",
    "    | llm\n",
    "    | StrOutputParser()\n",
    ")\n",
    "\n",
    "final_rag_chain.invoke({\"question\": question})"
   ]
  },
  {
   "cell_type": "markdown",
   "id": "24d1a582-8b95-46ad-9f77-38c5f81d4276",
   "metadata": {},
   "source": [
    "# Query Decomposition"
   ]
  },
  {
   "cell_type": "code",
   "execution_count": 9,
   "id": "0514e5f4-43ee-445c-bfb8-b9c2b66b4b53",
   "metadata": {},
   "outputs": [
    {
     "name": "stdout",
     "output_type": "stream",
     "text": [
      "What was the impact of tourism on the Greek economy in 2023?  \n",
      "How did the tourism sector contribute to the Greek economy in 2022?  \n",
      "What are the differences in the economic effects of tourism in Greece between 2022 and 2023?\n"
     ]
    }
   ],
   "source": [
    "# 1. Load your LLM (e.g., GPT-4o or GPT-3.5-turbo)\n",
    "llm = ChatOpenAI(model_name=\"gpt-4o\", temperature=0)\n",
    "\n",
    "# 2. Prompt that teaches the LLM to do decomposition\n",
    "prompt = ChatPromptTemplate.from_messages([\n",
    "    (\"system\", \n",
    "     \"You are a helpful assistant that rewrites the user's question \"\n",
    "     \"into multiple focused subqueries to improve document retrieval.\"),\n",
    "    (\"human\", \n",
    "     \"Original question: {question}\\n\\nRewrite it into 2-3 targeted subquestions, \"\n",
    "     \"each on a new line, without bullet points.\")\n",
    "])\n",
    "\n",
    "# 3. Chain\n",
    "chain = prompt | llm | StrOutputParser()\n",
    "\n",
    "# 4. Run it\n",
    "question = \"How did tourism affect the Greek economy in 2023 compared to 2022?\"\n",
    "output = chain.invoke({\"question\": question})\n",
    "\n",
    "\n",
    "print(output)\n"
   ]
  },
  {
   "cell_type": "code",
   "execution_count": 10,
   "id": "d3a85448-502b-468d-9f76-cfc7b8ee7bb4",
   "metadata": {},
   "outputs": [
    {
     "name": "stdout",
     "output_type": "stream",
     "text": [
      "🔧 Loading GPT‑4o model...\n",
      "\n",
      "📜 Preparing query decomposition prompt...\n",
      "\n",
      "🤖 Original Question:\n",
      "How did tourism affect the Greek economy in 2023 compared to 2022?\n",
      "\n",
      " Rewritten Subqueries:\n",
      "1. What was the impact of tourism on the Greek economy in 2023?\n",
      "2. How did the tourism sector contribute to the Greek economy in 2022?\n",
      "3. What are the differences in the economic effects of tourism in Greece between 2022 and 2023?\n",
      "\n",
      "📚 Simulating retrieval of relevant documents...\n",
      "\n",
      " Retrieved Documents:\n",
      "Doc 1: In 2023, tourism contributed 25% more revenue compared to 2022, driven by record-breaking arrivals in July and August.\n",
      "Doc 2: The Greek economy in 2022 saw a 20% recovery in tourism, following the pandemic lows of 2020 and 2021.\n",
      "Doc 3: The GDP from tourism rose from 15% of total GDP in 2022 to nearly 18% in 2023, according to ELSTAT.\n",
      "\n",
      "✏️ Generating the final answer using retrieved context...\n",
      "\n",
      "🎯 Final Answer:\n",
      "Tourism positively affected the Greek economy in 2023 compared to 2022. Revenue from tourism increased by 25% in 2023, driven by record-breaking arrivals in July and August. Additionally, the GDP contribution from tourism rose from 15% of total GDP in 2022 to nearly 18% in 2023, indicating a significant impact on the economy.\n"
     ]
    }
   ],
   "source": [
    "from langchain.schema import Document\n",
    "\n",
    "# -----------------------------\n",
    "# STEP 1: Load the LLM (GPT‑4o)\n",
    "# -----------------------------\n",
    "print(\"🔧 Loading GPT‑4o model...\")\n",
    "llm = ChatOpenAI(model_name=\"gpt-4o\", temperature=0)\n",
    "\n",
    "# -------------------------------------\n",
    "# STEP 2: Define a prompt for rewriting\n",
    "# -------------------------------------\n",
    "print(\"\\n📜 Preparing query decomposition prompt...\")\n",
    "rewrite_prompt = ChatPromptTemplate.from_messages([\n",
    "    (\"system\", \n",
    "     \"You are a helpful assistant that rewrites the user's question \"\n",
    "     \"into multiple focused subqueries to improve document retrieval.\"),\n",
    "    (\"human\", \n",
    "     \"Original question: {question}\\n\\nRewrite it into 2-3 targeted subquestions, \"\n",
    "     \"each on a new line, without bullet points.\")\n",
    "])\n",
    "decomposition_chain = rewrite_prompt | llm | StrOutputParser()\n",
    "\n",
    "# ---------------------------------------------------\n",
    "# STEP 3: Run decomposition on a complex user question\n",
    "# ---------------------------------------------------\n",
    "question = \"How did tourism affect the Greek economy in 2023 compared to 2022?\"\n",
    "print(f\"\\n🤖 Original Question:\\n{question}\")\n",
    "\n",
    "rewrites = decomposition_chain.invoke({\"question\": question})\n",
    "rewrite_list = [r.strip() for r in rewrites.splitlines() if r.strip()]\n",
    "\n",
    "print(\"\\n Rewritten Subqueries:\")\n",
    "for i, q in enumerate(rewrite_list, 1):\n",
    "    print(f\"{i}. {q}\")\n",
    "\n",
    "# ---------------------------------------------------\n",
    "# STEP 4: Simulate retrieved documents (from a vector DB)\n",
    "# ---------------------------------------------------\n",
    "print(\"\\n📚 Simulating retrieval of relevant documents...\")\n",
    "retrieved_docs = [\n",
    "    Document(page_content=\"In 2023, tourism contributed 25% more revenue compared to 2022, driven by record-breaking arrivals in July and August.\"),\n",
    "    Document(page_content=\"The Greek economy in 2022 saw a 20% recovery in tourism, following the pandemic lows of 2020 and 2021.\"),\n",
    "    Document(page_content=\"The GDP from tourism rose from 15% of total GDP in 2022 to nearly 18% in 2023, according to ELSTAT.\"),\n",
    "]\n",
    "\n",
    "print(\"\\n Retrieved Documents:\")\n",
    "for i, doc in enumerate(retrieved_docs, 1):\n",
    "    print(f\"Doc {i}: {doc.page_content}\")\n",
    "\n",
    "# ---------------------------------------------------\n",
    "# STEP 5: Feed context into the final answer generation prompt\n",
    "# ---------------------------------------------------\n",
    "print(\"\\n✏️ Generating the final answer using retrieved context...\")\n",
    "GEN_PROMPT = ChatPromptTemplate.from_template(\n",
    "    \"Answer using only the context below. \"\n",
    "    \"If insufficient, share any partial info you have **and** explicitly say \"\n",
    "    \"\\\"I don't know\\\" where details are missing.\\n\\n\"\n",
    "    \"{context}\\n\\n\"\n",
    "    \"Question: {question}\\nAnswer:\"\n",
    ") | llm | StrOutputParser()\n",
    "\n",
    "context = \"\\n\\n\".join(doc.page_content for doc in retrieved_docs)\n",
    "final_answer = GEN_PROMPT.invoke({\"context\": context, \"question\": question})\n",
    "\n",
    "# ---------------------------------------------------\n",
    "# STEP 6: Present the final answer\n",
    "# ---------------------------------------------------\n",
    "print(\"\\n🎯 Final Answer:\")\n",
    "print(final_answer)"
   ]
  },
  {
   "cell_type": "markdown",
   "id": "3432710c-07f7-47e5-9784-cfa2502dc66c",
   "metadata": {},
   "source": [
    "# HYDE"
   ]
  },
  {
   "cell_type": "code",
   "execution_count": 11,
   "id": "d2216f2c-80da-4761-98ac-f58f7060f1ff",
   "metadata": {},
   "outputs": [
    {
     "name": "stdout",
     "output_type": "stream",
     "text": [
      "🔮 Generating hypothetical answer...\n",
      "\n",
      "📝 Hypothetical Answer:\n",
      " As of the latest data available, Greek inflation has been influenced by a combination of domestic and international factors. In recent years, Greece, like many other European countries, has experienced fluctuations in inflation rates due to the COVID-19 pandemic's economic impact, supply chain disruptions, and energy price volatility.\n",
      "\n",
      "In 2022, Greece saw a significant rise in inflation, driven primarily by increased energy costs and supply chain issues. The war in Ukraine further exacerbated these pressures, leading to higher prices for natural gas and oil, which are critical imports for Greece. This situation was compounded by the global supply chain disruptions that affected the availability and cost of goods.\n",
      "\n",
      "The Greek government and the European Central Bank (ECB) have been actively monitoring the situation. The ECB's monetary policy, including interest rate adjustments, aims to stabilize inflation across the Eurozone, which includes Greece. Additionally, the Greek government has implemented measures to mitigate the impact on consumers, such as subsidies for energy costs and targeted financial support for vulnerable households.\n",
      "\n",
      "Looking forward, inflation in Greece is expected to gradually stabilize as global supply chains recover and energy markets adjust. However, the situation remains dynamic, and external factors such as geopolitical tensions and global economic trends will continue to play a significant role in shaping inflationary pressures in Greece. The government's ongoing efforts to strengthen the economy and diversify energy sources are crucial for long-term stability and resilience against future inflationary shocks.\n",
      "\n",
      "📚 Retrieved Documents:\n",
      "\n",
      "Doc 1:\n",
      "at a slow pace Headline inflation averaged 3.1% y-o-y in the third quarter of 2024, about 1 pp. above the euro area average. Disinflation has been constrained by accelerating services prices, the impact of the 2023 floods on food prices and the recent uptick in electricity prices. Inflation is expected to resume its decline in the last quarter of 2024, but wage pressures fuelled by increasing labour shortages and minimum wage increases are set to exert upward pressure on prices looking forward. \n",
      "\n",
      "Doc 2:\n",
      "Growth to remain robust The Greek economy posted a solid 2.1% y-o-y growth in the first half of 2024, driven primarily by domestic demand, while net exports were a drag on growth. Following minimum wage hikes, private consumption benefited from the relatively faster wage increase for lower-income households that tend to have a higher propensity to consume. Equipment investment accelerated in parallel with a strong pick-up in corporate credit growth, while a surge in imports accompanied by sluggi\n",
      "\n",
      "Doc 3:\n",
      "IMF Executive Board Concludes 2025 Article IV Consultation with Greece\n",
      "April 4, 2025\n",
      "Washington, DC: The Executive Board of the International Monetary Fund (IMF) concluded the Article IV consultation[1] with Greece on March 31, 2025.\n",
      "Greece's near-term economic outlook remains favorable, with real GDP sustaining its robust expansion. Real GDP growth is projected to remain high at 2.1 percent in 2025. Investment will continue to be a key driver, supported by NGEU-funded projects. Private consumpt\n",
      "\n",
      "🎯 Final Answer:\n",
      "\n",
      "Greek inflation averaged 3.1% year-on-year in the third quarter of 2024, which is about 1 percentage point above the euro area average. It is expected to decline to 3.0% in 2024, 2.4% in 2025, and 1.9% in 2026. Inflation excluding energy and food is forecast to remain higher, at 3.4% in 2024, 2.7% in 2025, and 2.0% in 2026. Headline inflation is expected to resume its decline in the last quarter of 2024, although wage pressures and minimum wage increases may exert upward pressure on prices.\n"
     ]
    }
   ],
   "source": [
    "# Your existing vectorstore and retriever are already running\n",
    "# from main app, so we'll just use the retriever here\n",
    "retriever = vectorstore.as_retriever(search_kwargs={\"k\": 3})\n",
    "\n",
    "parser = StrOutputParser()\n",
    "\n",
    "# HYDE step: create a plausible hypothetical answer\n",
    "hyde_prompt = ChatPromptTemplate.from_template(\n",
    "    \"Write a plausible, informed answer to the question below as if you were confident and had access to expert data.\\n\\nQuestion: {question}\\n\\nAnswer:\"\n",
    ")\n",
    "hyde_chain = hyde_prompt | llm | parser\n",
    "\n",
    "question = \"Greek inflation\"\n",
    "print(\"🔮 Generating hypothetical answer...\")\n",
    "hypothetical_answer = hyde_chain.invoke({\"question\": question})\n",
    "print(\"\\n📝 Hypothetical Answer:\\n\", hypothetical_answer)\n",
    "\n",
    "# Use that as the query for the vectorstore\n",
    "retrieved_docs = retriever.invoke(hypothetical_answer)\n",
    "\n",
    "print(\"\\n📚 Retrieved Documents:\")\n",
    "for i, doc in enumerate(retrieved_docs, 1):\n",
    "    print(f\"\\nDoc {i}:\\n{doc.page_content.strip()[:500]}\")  # Truncated for clarity\n",
    "\n",
    "# Final generation using retrieved context\n",
    "GEN_PROMPT = ChatPromptTemplate.from_template(\n",
    "    \"Answer the user's question using ONLY the context below. \"\n",
    "    \"If the context is insufficient, say \\\"I don't know\\\".\\n\\nContext:\\n{context}\\n\\nQuestion: {question}\\nAnswer:\"\n",
    ")\n",
    "gen_chain = GEN_PROMPT | llm | parser\n",
    "\n",
    "context = \"\\n\\n\".join(doc.page_content for doc in retrieved_docs)\n",
    "final_answer = gen_chain.invoke({\"context\": context, \"question\": question})\n",
    "\n",
    "print(\"\\n🎯 Final Answer:\\n\")\n",
    "print(final_answer)"
   ]
  },
  {
   "cell_type": "markdown",
   "id": "387ef00d-f6aa-41d9-b5f3-075a827265c3",
   "metadata": {},
   "source": [
    "# Evaluate the outcome with another llm (LLM as a jury)"
   ]
  },
  {
   "cell_type": "code",
   "execution_count": 12,
   "id": "41fd6070-8d6d-4678-b78b-a7eecb131ae9",
   "metadata": {},
   "outputs": [
    {
     "name": "stdout",
     "output_type": "stream",
     "text": [
      "📊 LLM Jury Evaluation:\n",
      "\n",
      "Faithfulness: 5/5 — The answer accurately reflects the information provided in the retrieved context, including specific figures and trends related to Greek inflation.\n",
      "\n",
      "Relevance: 5/5 — The answer directly addresses the user's question about Greek inflation, providing detailed information on current and projected inflation rates.\n",
      "\n",
      "Fluency: 5/5 — The answer is well-written and easy to understand, with clear and concise language that effectively communicates the information.\n",
      "\n",
      "Completeness: 5/5 — The answer includes all relevant details from the context, such as the comparison to the euro area average, projections for future years, and factors influencing inflation trends.\n"
     ]
    }
   ],
   "source": [
    "\n",
    "parser = StrOutputParser()\n",
    "\n",
    "# Load jury model\n",
    "jury_llm = ChatOpenAI(model_name=\"gpt-4o\", temperature=0)\n",
    "\n",
    "# ✨ Strict evaluation prompt with injected inputs\n",
    "prompt = PromptTemplate.from_template(\n",
    "    \"\"\"\n",
    "You are an expert evaluator for a question answering system.\n",
    "\n",
    "Evaluate the answer based on the following:\n",
    "User Question: {question}\n",
    "\n",
    "Retrieved Context:\n",
    "{context}\n",
    "\n",
    "Final Answer:\n",
    "{answer}\n",
    "\n",
    "Evaluate the answer on a scale of 1 to 5 for each criterion and give a short reason.\n",
    "\n",
    "Format your response like this:\n",
    "Faithfulness: x/5 — ...\n",
    "Relevance: x/5 — ...\n",
    "Fluency: x/5 — ...\n",
    "Completeness: x/5 — ...\n",
    "\"\"\"\n",
    ")\n",
    "\n",
    "# Build the chain and run\n",
    "evaluation_chain = prompt | llm | parser\n",
    "result = evaluation_chain.invoke({\n",
    "    \"question\": question,\n",
    "    \"context\": context,\n",
    "    \"answer\": final_answer,\n",
    "})\n",
    "\n",
    "print(\"📊 LLM Jury Evaluation:\\n\")\n",
    "print(result)\n"
   ]
  }
 ],
 "metadata": {
  "kernelspec": {
   "display_name": "Python 3 (ipykernel)",
   "language": "python",
   "name": "python3"
  },
  "language_info": {
   "codemirror_mode": {
    "name": "ipython",
    "version": 3
   },
   "file_extension": ".py",
   "mimetype": "text/x-python",
   "name": "python",
   "nbconvert_exporter": "python",
   "pygments_lexer": "ipython3",
   "version": "3.13.1"
  }
 },
 "nbformat": 4,
 "nbformat_minor": 5
}
