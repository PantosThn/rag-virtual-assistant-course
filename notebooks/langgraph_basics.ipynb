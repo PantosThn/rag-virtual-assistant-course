{
 "cells": [
  {
   "cell_type": "markdown",
   "id": "e7e0fa21-ddeb-411a-9b26-9c488a219adb",
   "metadata": {},
   "source": [
    "## What is a State in LangGraph?\n",
    "\n",
    "- **State = shared memory** that moves through your LangGraph workflow.\n",
    "- It holds everything the nodes need to see or update (like a conversation or tool results).\n",
    "\n",
    "### What’s inside a state?\n",
    "- Typically a Python dictionary with fields like:\n",
    "  - `messages`: the conversation history\n",
    "  - `tool_results`: outputs from tools\n",
    "  - `query`: user input\n",
    "  - Anything else your app needs to remember"
   ]
  },
  {
   "cell_type": "code",
   "execution_count": 1,
   "id": "0165d033-cafc-4700-9041-d93bdf95853f",
   "metadata": {},
   "outputs": [],
   "source": [
    "from typing import Annotated\n",
    "\n",
    "from typing_extensions import TypedDict\n",
    "\n",
    "from langgraph.graph import StateGraph, START\n",
    "from langgraph.graph.message import add_messages\n",
    "\n",
    "\n",
    "class State(TypedDict):\n",
    "    # Messages have the type \"list\". The `add_messages` function\n",
    "    # in the annotation defines how this state key should be updated\n",
    "    # (in this case, it appends messages to the list, rather than overwriting them)\n",
    "    messages: Annotated[list, add_messages]\n",
    "\n",
    "\n",
    "graph_builder = StateGraph(State)"
   ]
  },
  {
   "cell_type": "markdown",
   "id": "221dc127-387a-40bf-a5ff-4ad66808bbe4",
   "metadata": {},
   "source": [
    "## What are Nodes and Edges in LangGraph?\n",
    "\n",
    "### Nodes\n",
    "- **Nodes are the steps in your flow.**\n",
    "- Each node does something: calls an LLM, looks up a database, filters results, etc.\n",
    "- You can think of a node like a function or block in a flowchart.\n",
    "- Example: A node might answer a question using an LLM.\n",
    "\n",
    "### Edges\n",
    "- **Edges connect the nodes and decide what happens next.**\n",
    "- They define the **path** the data takes.\n",
    "- Edges can be simple (go to the next step) or conditional (go here **if** something is true).\n",
    "- Example: If the LLM says “I need more info,” the edge might loop back to a retriever node.\n",
    "\n",
    "### Think of it like this:\n",
    "- Nodes = **What to do**\n",
    "- Edges = **Where to go next**\n",
    "\n",
    "### Why it matters in LangGraph\n",
    "- LangGraph lets you build **smart workflows** where LLMs can make decisions.\n",
    "- You use nodes to define actions.\n",
    "- You use edges to define logic (e.g., \"if answer is good, stop\", \"if not, try again\").\n",
    "\n",
    "### Bonus analogy:\n",
    "> It's like a choose-your-own-adventure book:\n",
    "> - Each page is a **node** (an event or action),\n",
    "> - The choices are **edges** (which page you flip to next).\n"
   ]
  },
  {
   "cell_type": "code",
   "execution_count": 4,
   "id": "eb4c9ae0-30a7-4b07-aeba-7faaf24b52b4",
   "metadata": {},
   "outputs": [],
   "source": [
    "import os\n",
    "from langchain.chat_models import init_chat_model\n",
    "\n",
    "OPENAI_API_KEY: str | None = os.getenv(\"OPENAI_API_KEY\")\n",
    "\n",
    "#os.environ[\"OPENAI_API_KEY\"] = \"sk-...\"\n",
    "\n",
    "llm = init_chat_model(\"openai:gpt-4.1\")"
   ]
  },
  {
   "cell_type": "code",
   "execution_count": 6,
   "id": "2562f79c-8571-488a-8b9d-b46301afa5bc",
   "metadata": {},
   "outputs": [
    {
     "data": {
      "text/plain": [
       "<langgraph.graph.state.StateGraph at 0x121507a10>"
      ]
     },
     "execution_count": 6,
     "metadata": {},
     "output_type": "execute_result"
    }
   ],
   "source": [
    "def chatbot(state: State):\n",
    "    return {\"messages\": [llm.invoke(state[\"messages\"])]}\n",
    "\n",
    "\n",
    "# The first argument is the unique node name\n",
    "# The second argument is the function or object that will be called whenever\n",
    "# the node is used.\n",
    "graph_builder.add_node(\"chatbot\", chatbot)\n",
    "\n",
    "graph_builder.add_edge(START, \"chatbot\")"
   ]
  },
  {
   "cell_type": "code",
   "execution_count": 7,
   "id": "e681422a-603e-4ebe-a5ca-bce150cbbb26",
   "metadata": {},
   "outputs": [],
   "source": [
    "graph = graph_builder.compile()"
   ]
  },
  {
   "cell_type": "code",
   "execution_count": 8,
   "id": "5d0559e1-76a4-4f44-9d07-a48d9951e53a",
   "metadata": {},
   "outputs": [
    {
     "data": {
      "image/png": "[encoded data removed]",
      "text/plain": [
       "<IPython.core.display.Image object>"
      ]
     },
     "metadata": {},
     "output_type": "display_data"
    }
   ],
   "source": [
    "from IPython.display import Image, display\n",
    "\n",
    "try:\n",
    "    display(Image(graph.get_graph().draw_mermaid_png()))\n",
    "except Exception:\n",
    "    # This requires some extra dependencies and is optional\n",
    "    pass"
   ]
  },
  {
   "cell_type": "code",
   "execution_count": 20,
   "id": "f49038c1-7612-4779-aa27-62d0d4c70c1e",
   "metadata": {},
   "outputs": [],
   "source": [
    "def stream_graph_updates(user_input: str):\n",
    "    for event in graph.stream({\"messages\": [{\"role\": \"user\", \"content\": user_input}]}):\n",
    "        for value in event.values():\n",
    "            print(\"Assistant:\", value[\"messages\"][-1].content)\n",
    "\n",
    "\n",
    "while True:\n",
    "    try:\n",
    "        user_input = input(\"User: \")\n",
    "        if user_input.lower() in [\"quit\", \"exit\", \"q\"]:\n",
    "            print(\"Goodbye!\")\n",
    "            break\n",
    "        stream_graph_updates(user_input)\n",
    "    except:\n",
    "        # fallback if input() is not available\n",
    "        user_input = \"What do you know about LangGraph?\"\n",
    "        print(\"User: \" + user_input)\n",
    "        stream_graph_updates(user_input)\n",
    "        break"
   ]
  },
  {
   "cell_type": "markdown",
   "id": "7b467786-0605-4fc9-8c16-c086dfa6c1d7",
   "metadata": {},
   "source": [
    "### Add a tool"
   ]
  },
  {
   "cell_type": "code",
   "execution_count": 12,
   "id": "9348e09e-6280-4c6e-99bd-0591736eb373",
   "metadata": {},
   "outputs": [],
   "source": [
    "TAVILY_API_KEY: str | None = os.getenv(\"TAVILY_API_KEY\")"
   ]
  },
  {
   "cell_type": "code",
   "execution_count": 13,
   "id": "00271389-d46b-45fe-98b4-9885b84a22e1",
   "metadata": {},
   "outputs": [
    {
     "data": {
      "text/plain": [
       "{'query': \"What's a 'node' in LangGraph?\",\n",
       " 'follow_up_questions': None,\n",
       " 'answer': None,\n",
       " 'images': [],\n",
       " 'results': [{'title': 'LangGraph Basics: Understanding State, Schema, Nodes, and Edges',\n",
       "   'url': 'https://medium.com/@vivekvjnk/langgraph-basics-understanding-state-schema-nodes-and-edges-77f2fd17cae5',\n",
       "   'content': 'LangGraph Basics: Understanding State, Schema, Nodes, and Edges | by Story_Teller | Medium LangGraph Basics: Understanding State, Schema, Nodes, and Edges LangGraph Basics: Understanding State, Schema, Nodes, and Edges These predefined structures in the messaging app are synonymous with the schema of the state in LangGraph. Just as a messaging app ensures all interactions (messages) follow a consistent format, the schema in LangGraph ensures the state passed along edges is structured and interpretable. This static schema allows nodes to rely on a consistent state format, ensuring seamless communication along edges throughout the graph. In this article, we explored the foundational concepts of graph-based systems, drawing parallels to familiar messaging applications to illustrate how edges, nodes, and state transitions function seamlessly in dynamic workflows.',\n",
       "   'score': 0.6501347,\n",
       "   'raw_content': None},\n",
       "  {'title': 'LangGraph Tutorial: What Is LangGraph and How to Use It?',\n",
       "   'url': 'https://www.datacamp.com/tutorial/langgraph-tutorial',\n",
       "   'content': 'LangGraph is a library within the LangChain ecosystem that provides a framework for defining, coordinating, and executing multiple LLM agents (or chains) in a structured and efficient manner. By managing the flow of data and the sequence of operations, LangGraph allows developers to focus on the high-level logic of their applications rather than the intricacies of agent coordination. Whether you need a chatbot that can handle various types of user requests or a multi-agent system that performs complex tasks, LangGraph provides the tools to build exactly what you need. LangGraph significantly simplifies the development of complex LLM applications by providing a structured framework for managing state and coordinating agent interactions.',\n",
       "   'score': 0.5008063,\n",
       "   'raw_content': None}],\n",
       " 'response_time': 2.21}"
      ]
     },
     "execution_count": 13,
     "metadata": {},
     "output_type": "execute_result"
    }
   ],
   "source": [
    "from langchain_tavily import TavilySearch\n",
    "\n",
    "tool = TavilySearch(max_results=2)\n",
    "tools = [tool]\n",
    "tool.invoke(\"What's a 'node' in LangGraph?\")"
   ]
  },
  {
   "cell_type": "code",
   "execution_count": 18,
   "id": "a1276e91-54b4-4b87-827d-4f281ff57815",
   "metadata": {},
   "outputs": [],
   "source": [
    "from typing import Annotated\n",
    "\n",
    "from langchain_tavily import TavilySearch\n",
    "from langchain_core.messages import BaseMessage\n",
    "from typing_extensions import TypedDict\n",
    "\n",
    "from langgraph.graph import StateGraph, START, END\n",
    "from langgraph.graph.message import add_messages\n",
    "from langgraph.prebuilt import ToolNode, tools_condition\n",
    "\n",
    "class State(TypedDict):\n",
    "    messages: Annotated[list, add_messages]\n",
    "\n",
    "graph_builder = StateGraph(State)\n",
    "\n",
    "tool = TavilySearch(max_results=2)\n",
    "tools = [tool]\n",
    "llm_with_tools = llm.bind_tools(tools)\n",
    "\n",
    "def chatbot(state: State):\n",
    "    return {\"messages\": [llm_with_tools.invoke(state[\"messages\"])]}\n",
    "\n",
    "graph_builder.add_node(\"chatbot\", chatbot)\n",
    "\n",
    "tool_node = ToolNode(tools=[tool])\n",
    "graph_builder.add_node(\"tools\", tool_node)\n",
    "\n",
    "graph_builder.add_conditional_edges(\n",
    "    \"chatbot\",\n",
    "    tools_condition,\n",
    ")\n",
    "# Any time a tool is called, we return to the chatbot to decide the next step\n",
    "graph_builder.add_edge(\"tools\", \"chatbot\")\n",
    "graph_builder.add_edge(START, \"chatbot\")\n",
    "graph = graph_builder.compile()"
   ]
  },
  {
   "cell_type": "code",
   "execution_count": 19,
   "id": "05bfbcd6-6188-411a-ab05-de7d6837cfc5",
   "metadata": {},
   "outputs": [
    {
     "data": {
      "image/png": "[encoded data removed]",
      "text/plain": [
       "<IPython.core.display.Image object>"
      ]
     },
     "metadata": {},
     "output_type": "display_data"
    }
   ],
   "source": [
    "from IPython.display import Image, display\n",
    "\n",
    "try:\n",
    "    display(Image(graph.get_graph().draw_mermaid_png()))\n",
    "except Exception:\n",
    "    # This requires some extra dependencies and is optional\n",
    "    pass"
   ]
  },
  {
   "cell_type": "code",
   "execution_count": 21,
   "id": "673775a0-2fa9-48aa-9784-5207d79eb3ec",
   "metadata": {},
   "outputs": [
    {
     "name": "stdin",
     "output_type": "stream",
     "text": [
      "User:  search about greek economy\n"
     ]
    },
    {
     "name": "stdout",
     "output_type": "stream",
     "text": [
      "Assistant: \n",
      "Assistant: {\"query\": \"Greek economy overview 2024\", \"follow_up_questions\": null, \"answer\": null, \"images\": [], \"results\": [{\"url\": \"https://economy-finance.ec.europa.eu/economic-surveillance-eu-economies/greece/economic-forecast-greece_en\", \"title\": \"Economic forecast for Greece - Economy and Finance\", \"content\": \"The Greek economy posted a solid 2.1% y-o-y growth in the first half of 2024, driven primarily by domestic demand, while net exports were a drag on growth. Following minimum wage hikes, private consumption benefited from the relatively faster wage increase for lower-income households that tend to have a higher propensity to consume. Equipment investment accelerated in parallel with a strong pick-up in corporate credit growth, while a surge in imports accompanied by sluggish export growth [...] prompted a decline in net exports. Thanks to strong domestic demand, real GDP growth is expected to average 2.1% in 2024. [...] Economic activity is expected to expand by 2.1% in 2024 and to maintain a broadly similar growth in 2025 and 2026, supported by the implementation of the Recovery and Resilience Plan (RRP). Unemployment, now below 10%, is expected to keep declining but more slowly than in the past. Inflation is projected at 3.0% in 2024 and is expected to moderate only gradually to around 1.9% by 2026. The general government deficit is projected to keep decreasing driven by muted expenditure growth. Together\", \"score\": 0.9505628, \"raw_content\": null}, {\"url\": \"https://www.bankofgreece.gr/Publications/Note_on_the_Greek_economy_06_December_2024.pdf\", \"title\": \"[PDF] NOTE ON THE GREEK ECONOMY - December 06, 2024\", \"content\": \"Economic activity continued to expand at a satisfactory pace in 2024:Q3 (2.4% y-o-y), outperforming the euro area average.\", \"score\": 0.9057319, \"raw_content\": null}], \"response_time\": 2.82}\n",
      "Assistant: The Greek economy in 2024 is showing solid growth and resilience:\n",
      "\n",
      "- GDP Growth: Greece posted a year-on-year GDP growth of 2.1% in the first half of 2024, with expectations to maintain this level in 2025 and 2026. This growth is driven mainly by strong domestic demand, wage increases, and increased investment, especially by businesses.\n",
      "- Consumption & Investment: Higher minimum wages and faster wage increases for lower-income households boosted private consumption. Investment in equipment is accelerating, helped by robust growth in corporate credit.\n",
      "- Trade: While imports surged, export growth was sluggish, resulting in net exports dragging on overall growth.\n",
      "- Employment & Inflation: Unemployment is now below 10% and is expected to keep falling gradually. Inflation is at 3.0% in 2024 and is anticipated to ease to about 1.9% by 2026.\n",
      "- Fiscal Situation: The government deficit is declining due to slow expenditure growth.\n",
      "- Context: Greece continues to outperform the euro area average in terms of economic growth according to recent reports.\n",
      "\n",
      "For more, you can read the official economic forecast by the European Commission or review the latest summary from the Bank of Greece:\n",
      "- European Commission Economic Forecast for Greece\n",
      "- Bank of Greece Note on the Economy (PDF)\n",
      "\n",
      "Let me know if you want deeper analysis or specific sector trends.\n"
     ]
    },
    {
     "name": "stdin",
     "output_type": "stream",
     "text": [
      "User:  end\n"
     ]
    },
    {
     "name": "stdout",
     "output_type": "stream",
     "text": [
      "Assistant: It looks like you've typed \"end.\" If you'd like to finish the conversation or have a specific request, please let me know! If you need help with something else, just ask.\n",
      "User: What do you know about LangGraph?\n",
      "Assistant: \n",
      "Assistant: {\"query\": \"LangGraph AI framework\", \"follow_up_questions\": null, \"answer\": null, \"images\": [], \"results\": [{\"title\": \"langchain-ai/langgraph: Build resilient language agents as graphs. - GitHub\", \"url\": \"https://github.com/langchain-ai/langgraph\", \"content\": \"| Latest commit [jacoblee93](/jacoblee93)[jacoblee93](/langchain-ai/langgraph/commits?author=jacoblee93)  [docs: Adds additional Google Analytics tag to docs (](/langchain-ai/langgraph/commit/c7fe85585b430f62fa7f0780fc74bd9de982b2ad)[#4402](https://github.com/langchain-ai/langgraph/pull/4402)[)](/langchain-ai/langgraph/commit/c7fe85585b430f62fa7f0780fc74bd9de982b2ad) Apr 24, 2025  [c7fe855](/langchain-ai/langgraph/commit/c7fe85585b430f62fa7f0780fc74bd9de982b2ad) · Apr 24, 2025  History[5,095 Commits](/langchain-ai/langgraph/commits/main/) | | | | [.markdown-link-check.config.json](/langchain-ai/langgraph/blob/main/.markdown-link-check.config.json \\\".markdown-link-check.config.json\\\") | | [.markdown-link-check.config.json](/langchain-ai/langgraph/blob/main/.markdown-link-check.config.json \\\".markdown-link-check.config.json\\\") | [Use create\\\\_react\\\\_agent (](/langchain-ai/langgraph/commit/2c32a38c4206ae029df1ba308617846ad52ba0bb \\\"Use create_react_agent (#441)\\\")[#441](https://github.com/langchain-ai/langgraph/pull/441)[)](/langchain-ai/langgraph/commit/2c32a38c4206ae029df1ba308617846ad52ba0bb \\\"Use create_react_agent (#441)\\\") | May 13, 2024 | [![Open Issues](https://camo.githubusercontent.com/5c13e9a7e2e21ad5dcf19f3be58e4b34485296e00539a1a93aec1d0896b2bd0f/68747470733a2f2f696d672e736869656c64732e696f2f6769746875622f6973737565732d7261772f6c616e67636861696e2d61692f6c616e676772617068)](https://github.com/langchain-ai/langgraph/issues) [![Docs](https://camo.githubusercontent.com/1a5daa2002aae52e28b869f1907ff99534f4cd34dc7753ddebf2caa26ffb7820/68747470733a2f2f696d672e736869656c64732e696f2f62616467652f646f63732d6c61746573742d626c7565)](https://langchain-ai.github.io/langgraph/) To learn more about how to use LangGraph, check out [the docs](https://langchain-ai.github.io/langgraph/). Discover, reuse, configure, and share agents across teams — and iterate quickly with visual prototyping in [LangGraph Studio](https://langchain-ai.github.io/langgraph/concepts/langgraph_studio/). While LangGraph is our open-source agent orchestration framework, enterprises that need scalable agent deployment can benefit from [LangGraph Platform](https://langchain-ai.github.io/langgraph/concepts/langgraph_platform/). - [Built with LangGraph](https://www.langchain.com/built-with-langgraph): Hear how industry leaders use LangGraph to ship powerful, production-ready AI applications.\", \"score\": 0.7474137, \"raw_content\": null}, {\"title\": \"LangGraph - LangChain\", \"url\": \"https://www.langchain.com/langgraph\", \"content\": \"[LangGraph](https://langchain-ai.github.io/langgraph/tutorials/introduction/)[LangSmith](https://docs.smith.langchain.com/)[LangChain](https://python.langchain.com/docs/introduction/) ![](https://cdn.prod.website-files.com/65b8cd72835ceeacd4449a53/667b080e4b3ca12dc5d5d439_Langgraph%20UI-2.webp) [Read a conceptual guide](https://langchain-ai.github.io/langgraph/concepts/agentic_concepts/#human-in-the-loop) ![](https://cdn.prod.website-files.com/65b8cd72835ceeacd4449a53/68152f21a3b30d65d6c71bb3_Customizable-Agent-Architectures_v3%20(1).gif) [See different agent architectures](https://langchain-ai.github.io/langgraph/concepts/agentic_concepts/) [Learn about agent memory](https://langchain-ai.github.io/langgraph/concepts/memory/) ![](https://cdn.prod.website-files.com/65b8cd72835ceeacd4449a53/67878de387cf10f90c7ad65f_LangGraph---Memory-HQ.gif) [![](https://cdn.prod.website-files.com/65b8cd72835ceeacd4449a53/678e35d6c553c4fb20f9b753_Frame%2099644.webp)![](https://cdn.prod.website-files.com/65b8cd72835ceeacd4449a53/6787ae0bce5c99dd808545ce_card%202.webp)](https://academy.langchain.com/courses/intro-to-langgraph) Design agent-driven user experiences with LangGraph Platform's APIs. Quickly deploy and scale your application with infrastructure built for agents. The next chapter in building complex production-ready features with LLMs is agentic, and with LangGraph and LangSmith, LangChain delivers an out-of-the-box solution to iterate quickly, debug immediately, and scale effortlessly.” The next chapter in building complex production-ready features with LLMs is agentic, and with LangGraph and LangSmith, LangChain delivers an out-of-the-box solution to iterate quickly, debug immediately, and scale effortlessly.” LangGraph Platform is a service for deploying and scaling LangGraph applications, with an opinionated API for building agent UXs, plus an integrated developer studio.\", \"score\": 0.70263255, \"raw_content\": null}], \"response_time\": 2.01}\n",
      "Assistant: LangGraph is an open-source framework created by the LangChain team for building resilient language agent applications as graphs. It is designed to help developers create, orchestrate, and manage complex AI agent workflows, particularly those driven by large language models (LLMs).\n",
      "\n",
      "Key points about LangGraph:\n",
      "\n",
      "- Graph-based orchestration: LangGraph allows agents and their workflows to be structured as graphs, which helps with managing complex logic, modularity, and robustness in AI agent-based applications.\n",
      "- Integration with LangChain: LangGraph is part of the broader LangChain ecosystem, and works especially well with LangChain’s tools for building LLM-powered applications.\n",
      "- Reusability and collaboration: Developers can discover, reuse, configure, and share agents across teams, enabling faster iteration and more collaborative development.\n",
      "- Visual prototyping: LangGraph Studio is a visual tool to prototype agent workflows, making it easier to design and debug agentic applications.\n",
      "- Deployment and scaling: For enterprises, LangGraph Platform offers deployment and scaling capabilities, with APIs geared toward building and scaling agent-driven user experiences.\n",
      "- Memory and agent architectures: LangGraph provides advanced features for agent memory, enabling agents to remember and utilize past interactions. It also supports customizable agent architectures.\n",
      "\n",
      "You can find more detailed information and guides in the official LangGraph documentation and on the LangChain website:\n",
      "- LangGraph documentation: https://langchain-ai.github.io/langgraph/\n",
      "- Conceptual guide: https://langchain-ai.github.io/langgraph/concepts/agentic_concepts/\n",
      "- Application deployment: https://www.langchain.com/langgraph\n",
      "\n",
      "Let me know if you need details on how to use LangGraph or example use cases!\n"
     ]
    }
   ],
   "source": [
    "def stream_graph_updates(user_input: str):\n",
    "    for event in graph.stream({\"messages\": [{\"role\": \"user\", \"content\": user_input}]}):\n",
    "        for value in event.values():\n",
    "            print(\"Assistant:\", value[\"messages\"][-1].content)\n",
    "\n",
    "\n",
    "while True:\n",
    "    try:\n",
    "        user_input = input(\"User: \")\n",
    "        if user_input.lower() in [\"quit\", \"exit\", \"q\"]:\n",
    "            print(\"Goodbye!\")\n",
    "            break\n",
    "        stream_graph_updates(user_input)\n",
    "    except:\n",
    "        # fallback if input() is not available\n",
    "        user_input = \"What do you know about LangGraph?\"\n",
    "        print(\"User: \" + user_input)\n",
    "        stream_graph_updates(user_input)\n",
    "        break"
   ]
  },
  {
   "cell_type": "code",
   "execution_count": null,
   "id": "12c7515f-c6a9-49f0-8cfb-017cdc089f4a",
   "metadata": {},
   "outputs": [],
   "source": []
  }
 ],
 "metadata": {
  "kernelspec": {
   "display_name": "Python 3 (ipykernel)",
   "language": "python",
   "name": "python3"
  },
  "language_info": {
   "codemirror_mode": {
    "name": "ipython",
    "version": 3
   },
   "file_extension": ".py",
   "mimetype": "text/x-python",
   "name": "python",
   "nbconvert_exporter": "python",
   "pygments_lexer": "ipython3",
   "version": "3.13.1"
  }
 },
 "nbformat": 4,
 "nbformat_minor": 5
}
