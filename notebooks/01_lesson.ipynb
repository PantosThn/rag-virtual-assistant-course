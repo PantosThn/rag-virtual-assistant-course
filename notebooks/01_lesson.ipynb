{
 "cells": [
  {
   "cell_type": "code",
   "execution_count": 1,
   "id": "60de952c-072e-4d83-b0ce-63af39bfb30a",
   "metadata": {},
   "outputs": [],
   "source": [
    "import langchain\n",
    "import bs4\n",
    "import os\n",
    "from dotenv import load_dotenv\n",
    "\n",
    "# Load from .env if you use one\n",
    "load_dotenv()\n",
    "os.environ[\"USER_AGENT\"] = \"Mozilla/5.0 (compatible; RAG-TutorialBot/1.0; +https://yourwebsite.com/bot)\"\n",
    "\n",
    "from pprint import pprint\n",
    "from langchain import hub\n",
    "from langchain.text_splitter import RecursiveCharacterTextSplitter\n",
    "from langchain_community.document_loaders import WebBaseLoader\n",
    "from langchain_community.vectorstores import Chroma\n",
    "from langchain_openai import ChatOpenAI, OpenAIEmbeddings\n",
    "from langchain_core.output_parsers import StrOutputParser\n",
    "from langchain_core.runnables import RunnablePassthrough"
   ]
  },
  {
   "cell_type": "code",
   "execution_count": 2,
   "id": "88a28bd3-4977-4301-8661-439f5e97b67e",
   "metadata": {},
   "outputs": [],
   "source": [
    "LANGSMITH_PROJECT=\"rag-virtual-assistant-course \""
   ]
  },
  {
   "cell_type": "markdown",
   "id": "07f58a04-b2ad-4ed1-b6b9-dbb4f26efca8",
   "metadata": {},
   "source": [
    "# INDEXING"
   ]
  },
  {
   "cell_type": "code",
   "execution_count": 3,
   "id": "664f9b70-3534-408f-a44e-e767aeac3f57",
   "metadata": {},
   "outputs": [],
   "source": [
    "# Load documents from the web\n",
    "loader = WebBaseLoader(\n",
    "    web_paths=[\n",
    "        \"https://www.reuters.com/world/europe/greece-ask-eu-fiscal-leeway-defence-spending-minister-says-2025-04-29/\",\n",
    "        \"https://www.ekathimerini.com/economy/1264299/moodys-upgrade-of-the-greek-economy-is-significant-says-govt-spox/\"\n",
    "    ],\n",
    "    bs_kwargs={\n",
    "        # Optional: you can remove `bs_kwargs` if the websites don't need specific filtering\n",
    "        \"parse_only\": bs4.SoupStrainer([\"article\", \"body\", \"main\", \"section\", \"div\", \"p\"])\n",
    "    }\n",
    ")\n",
    "docs = loader.load()\n",
    "\n",
    "# Split documents into manageable chunks\n",
    "text_splitter = RecursiveCharacterTextSplitter(chunk_size=1000, chunk_overlap=200)\n",
    "splits = text_splitter.split_documents(docs)\n",
    "\n",
    "# Create vectorstore with OpenAI embeddings\n",
    "vectorstore = Chroma.from_documents(\n",
    "    documents=splits,\n",
    "    embedding=OpenAIEmbeddings()\n",
    ")\n",
    "\n",
    "retriever = vectorstore.as_retriever()"
   ]
  },
  {
   "cell_type": "markdown",
   "id": "94c8ee9b-ab06-44c8-9df7-9c97098e595c",
   "metadata": {},
   "source": [
    "# RETRIEVAL + GENERATION"
   ]
  },
  {
   "cell_type": "code",
   "execution_count": 4,
   "id": "9cf44c90-e7ed-4f75-998b-e2d1cfe81f7e",
   "metadata": {},
   "outputs": [],
   "source": [
    "# Pull a standard RAG prompt template from LangChain Hub\n",
    "prompt = hub.pull(\"rlm/rag-prompt\")"
   ]
  },
  {
   "cell_type": "code",
   "execution_count": 5,
   "id": "91f2a60b-0bd1-45e7-9303-13cc087a30ab",
   "metadata": {},
   "outputs": [
    {
     "name": "stdout",
     "output_type": "stream",
     "text": [
      "You are an assistant for question-answering tasks. Use the following pieces of retrieved context to answer the question. If you don't know the answer, just say that you don't know. Use three sentences maximum and keep the answer concise.\n",
      "Question: {question} \n",
      "Context: {context} \n",
      "Answer:\n"
     ]
    }
   ],
   "source": [
    "human_prompt = prompt.messages[0].prompt.template\n",
    "print(human_prompt)"
   ]
  },
  {
   "cell_type": "code",
   "execution_count": 6,
   "id": "4f9845d3-a77d-4fa4-b76d-86f89a67a280",
   "metadata": {},
   "outputs": [],
   "source": [
    "# Initialize LLM\n",
    "llm = ChatOpenAI(\n",
    "    model_name=\"gpt-4.1\",\n",
    "    temperature=0\n",
    ")\n",
    "\n",
    "# Define a post-processor for the retrieved documents\n",
    "def format_docs(docs):\n",
    "    return \"\\n\\n\".join(doc.page_content for doc in docs)"
   ]
  },
  {
   "cell_type": "code",
   "execution_count": 7,
   "id": "38c96426-cc7f-4a65-b509-35b3266efec8",
   "metadata": {},
   "outputs": [],
   "source": [
    "# Create the full RAG chain\n",
    "rag_chain = (\n",
    "    {\"context\": retriever | format_docs, \"question\": RunnablePassthrough()}\n",
    "    | prompt\n",
    "    | llm\n",
    "    | StrOutputParser()\n",
    ")\n"
   ]
  },
  {
   "cell_type": "markdown",
   "id": "661c1241-e85f-4352-a21f-437287b6c272",
   "metadata": {},
   "source": [
    "# Ask a Question"
   ]
  },
  {
   "cell_type": "code",
   "execution_count": 8,
   "id": "51df03d7-9f2f-4fda-8d22-8d84d45e330f",
   "metadata": {},
   "outputs": [
    {
     "name": "stdout",
     "output_type": "stream",
     "text": [
      "In 2025, the Greek economy is performing well, as evidenced by Moody’s upgrading Greece to investment grade—a significant milestone. The upgrade reflects rapid debt reduction, increased revenues from anti-tax evasion measures, strong budget performance, and a decline in non-performing loans. The government highlights these improvements as key indicators of economic progress.\n"
     ]
    }
   ],
   "source": [
    "response = rag_chain.invoke(\"How is the Greek economy doing in 2025?\")\n",
    "print(response)"
   ]
  },
  {
   "cell_type": "code",
   "execution_count": 9,
   "id": "2b6d6bdc-17d7-498e-9e37-ef0d8a99c821",
   "metadata": {},
   "outputs": [
    {
     "name": "stdout",
     "output_type": "stream",
     "text": [
      "The recent upgrade of Greece’s economy to investment grade by Moody’s brings significant financial benefits. It reflects improved economic stability, reduced debt, increased revenues, and a decline in non-performing loans. This upgrade can lead to lower borrowing costs for the country and increased investor confidence.\n"
     ]
    }
   ],
   "source": [
    "response = rag_chain.invoke(\"What about financial benefits?\")\n",
    "print(response)"
   ]
  },
  {
   "cell_type": "code",
   "execution_count": 10,
   "id": "a2c02e5c-353d-4591-b3b2-4aaa81f1ebee",
   "metadata": {},
   "outputs": [
    {
     "name": "stdout",
     "output_type": "stream",
     "text": [
      "The upgrade of Greece’s economy to investment grade by Moody’s is expected to benefit households by improving the country’s financial stability and lowering borrowing costs. This can lead to lower interest rates on loans and mortgages, making credit more affordable for families. Additionally, increased investor confidence may boost economic growth and job opportunities, further supporting household incomes.\n"
     ]
    }
   ],
   "source": [
    "response = rag_chain.invoke(\"How will this relief the households?\")\n",
    "print(response)"
   ]
  }
 ],
 "metadata": {
  "kernelspec": {
   "display_name": "Python 3 (ipykernel)",
   "language": "python",
   "name": "python3"
  },
  "language_info": {
   "codemirror_mode": {
    "name": "ipython",
    "version": 3
   },
   "file_extension": ".py",
   "mimetype": "text/x-python",
   "name": "python",
   "nbconvert_exporter": "python",
   "pygments_lexer": "ipython3",
   "version": "3.10.17"
  }
 },
 "nbformat": 4,
 "nbformat_minor": 5
}
